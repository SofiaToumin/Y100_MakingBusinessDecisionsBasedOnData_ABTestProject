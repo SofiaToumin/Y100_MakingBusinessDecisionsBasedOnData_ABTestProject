{
 "cells": [
  {
   "cell_type": "markdown",
   "metadata": {},
   "source": [
    " # Making Business Decisions Based on Data Project"
   ]
  },
  {
   "cell_type": "markdown",
   "metadata": {},
   "source": [
    "## Project description"
   ]
  },
  {
   "cell_type": "markdown",
   "metadata": {},
   "source": [
    "You are an analyst at a big online store. Together with the marketing department, you've compiled a list of hypotheses that may help boost revenue.\n",
    "You need to prioritize these hypotheses, launch an A/B test, and analyze the results."
   ]
  },
  {
   "cell_type": "markdown",
   "metadata": {},
   "source": [
    "## Research plan:\n",
    "\n",
    "1. **[Downloading](#section0) and preprocessing the data  [conclusions](#section0c)**\n",
    "\n",
    "### Part 1. Prioritizing Hypotheses\n",
    "\n",
    "  1. **[ICE](#section1_1) framework [conclusions](#section1_1c)**;\n",
    "  2. **[RICE](#section1_2) framework [conclusions](#section1_2c)**;\n",
    "  3. **How the [prioritization of hypotheses changes](#section1_3) when you use RICE instead of ICE  [conclusions](#section1_3c)**\n",
    "    \n",
    "### Part 2. A/B Test Analysis\n",
    "\n",
    "  1. **[Cumulative revenue](#section2_1) by group  [conclusions](#section2_1c)**;\n",
    "  2. **[Cumulative average order size](#section2_2) by group  [conclusions](#section2_2c)**;\n",
    "  3. **[Relative difference](#section2_3) in cumulative average order size  [conclusions](#section2_3c)**;\n",
    "  4. **[Cumulative conversion rate](#section2_4) of the two groups  [conclusions](#section2_4c)**;\n",
    "        **NEW! [Relative gain in conversion](#section2_4_0) in group B compared with group A  [conclusions](#section2_4_0c)**;\n",
    "  5. **[Number of orders per user](#section2_5)  [conclusions](#section2_5c)**;\n",
    "  6. **[When](#section2_6) data on number of orders per user becomes an anomaly  [conclusions](#section2_6c)**;\n",
    "  7. **[Order prices](#section2_7)  [conclusions](#section2_7c)**;\n",
    "  8. **[When](#section2_8) data on order prices becomes an anomaly  [conclusions](#section2_8c)**;\n",
    "  9. **[Statistical significance](#section2_9) of the difference in conversion between the groups (raw data)  [conclusions](#section2_9c)**;\n",
    "  10. **[Statistical significance](#section2_10) of the difference in average order size between the groups (raw data)  [conclusions](#section2_10c)**;\n",
    "  11. **[Statistical significance](#section2_11) of the difference in conversion between the groups (filtered data)  [conclusions](#section2_11c)**;\n",
    "  12. **[Statistical significance](#section2_12) of the difference in average order size between the groups (filtered data)  [conclusions](#section2_12c)**;\n",
    "  13. **[Decision](#section2_13) based on the test result  [conclusions](#section2_13c)**\n",
    "    "
   ]
  },
  {
   "cell_type": "markdown",
   "metadata": {},
   "source": [
    "<a id=\"section0\"></a>\n",
    "\n",
    "## Downloading and preprocessing the data"
   ]
  },
  {
   "cell_type": "code",
   "execution_count": 2,
   "metadata": {},
   "outputs": [],
   "source": [
    "import pandas as pd\n",
    "import numpy as np\n",
    "import datetime as dt\n",
    "import math\n",
    "import scipy.stats as stats\n",
    "from matplotlib import pyplot as plt\n",
    "import seaborn as sns"
   ]
  },
  {
   "cell_type": "code",
   "execution_count": 3,
   "metadata": {},
   "outputs": [],
   "source": [
    "pd.set_option('max_colwidth', 120)"
   ]
  },
  {
   "cell_type": "code",
   "execution_count": 4,
   "metadata": {},
   "outputs": [],
   "source": [
    "hypotheses = pd.read_csv('/datasets/hypotheses_us.csv', sep=';')"
   ]
  },
  {
   "cell_type": "code",
   "execution_count": 5,
   "metadata": {},
   "outputs": [
    {
     "name": "stdout",
     "output_type": "stream",
     "text": [
      "<class 'pandas.core.frame.DataFrame'>\n",
      "RangeIndex: 9 entries, 0 to 8\n",
      "Data columns (total 5 columns):\n",
      "Hypothesis    9 non-null object\n",
      "Reach         9 non-null int64\n",
      "Impact        9 non-null int64\n",
      "Confidence    9 non-null int64\n",
      "Effort        9 non-null int64\n",
      "dtypes: int64(4), object(1)\n",
      "memory usage: 488.0+ bytes\n"
     ]
    }
   ],
   "source": [
    "hypotheses.info()"
   ]
  },
  {
   "cell_type": "code",
   "execution_count": 6,
   "metadata": {},
   "outputs": [],
   "source": [
    "visits = pd.read_csv('/datasets/visits_us.csv' , parse_dates = ['date'])"
   ]
  },
  {
   "cell_type": "code",
   "execution_count": 7,
   "metadata": {},
   "outputs": [
    {
     "name": "stdout",
     "output_type": "stream",
     "text": [
      "<class 'pandas.core.frame.DataFrame'>\n",
      "RangeIndex: 62 entries, 0 to 61\n",
      "Data columns (total 3 columns):\n",
      "date      62 non-null datetime64[ns]\n",
      "group     62 non-null object\n",
      "visits    62 non-null int64\n",
      "dtypes: datetime64[ns](1), int64(1), object(1)\n",
      "memory usage: 1.6+ KB\n"
     ]
    }
   ],
   "source": [
    "visits.info()"
   ]
  },
  {
   "cell_type": "code",
   "execution_count": 8,
   "metadata": {},
   "outputs": [
    {
     "data": {
      "text/html": [
       "<div>\n",
       "<style scoped>\n",
       "    .dataframe tbody tr th:only-of-type {\n",
       "        vertical-align: middle;\n",
       "    }\n",
       "\n",
       "    .dataframe tbody tr th {\n",
       "        vertical-align: top;\n",
       "    }\n",
       "\n",
       "    .dataframe thead th {\n",
       "        text-align: right;\n",
       "    }\n",
       "</style>\n",
       "<table border=\"1\" class=\"dataframe\">\n",
       "  <thead>\n",
       "    <tr style=\"text-align: right;\">\n",
       "      <th></th>\n",
       "      <th>date</th>\n",
       "      <th>group</th>\n",
       "      <th>visits</th>\n",
       "    </tr>\n",
       "  </thead>\n",
       "  <tbody>\n",
       "    <tr>\n",
       "      <td>51</td>\n",
       "      <td>2019-08-21</td>\n",
       "      <td>B</td>\n",
       "      <td>656</td>\n",
       "    </tr>\n",
       "    <tr>\n",
       "      <td>2</td>\n",
       "      <td>2019-08-03</td>\n",
       "      <td>A</td>\n",
       "      <td>507</td>\n",
       "    </tr>\n",
       "    <tr>\n",
       "      <td>10</td>\n",
       "      <td>2019-08-11</td>\n",
       "      <td>A</td>\n",
       "      <td>718</td>\n",
       "    </tr>\n",
       "    <tr>\n",
       "      <td>35</td>\n",
       "      <td>2019-08-05</td>\n",
       "      <td>B</td>\n",
       "      <td>707</td>\n",
       "    </tr>\n",
       "    <tr>\n",
       "      <td>58</td>\n",
       "      <td>2019-08-28</td>\n",
       "      <td>B</td>\n",
       "      <td>654</td>\n",
       "    </tr>\n",
       "  </tbody>\n",
       "</table>\n",
       "</div>"
      ],
      "text/plain": [
       "         date group  visits\n",
       "51 2019-08-21     B     656\n",
       "2  2019-08-03     A     507\n",
       "10 2019-08-11     A     718\n",
       "35 2019-08-05     B     707\n",
       "58 2019-08-28     B     654"
      ]
     },
     "execution_count": 8,
     "metadata": {},
     "output_type": "execute_result"
    }
   ],
   "source": [
    "visits.sample(5)"
   ]
  },
  {
   "cell_type": "code",
   "execution_count": 9,
   "metadata": {},
   "outputs": [],
   "source": [
    "orders = pd.read_csv('/datasets/orders_us.csv', parse_dates = ['date'])"
   ]
  },
  {
   "cell_type": "code",
   "execution_count": 10,
   "metadata": {},
   "outputs": [
    {
     "name": "stdout",
     "output_type": "stream",
     "text": [
      "<class 'pandas.core.frame.DataFrame'>\n",
      "RangeIndex: 1197 entries, 0 to 1196\n",
      "Data columns (total 5 columns):\n",
      "transactionId    1197 non-null int64\n",
      "visitorId        1197 non-null int64\n",
      "date             1197 non-null datetime64[ns]\n",
      "revenue          1197 non-null float64\n",
      "group            1197 non-null object\n",
      "dtypes: datetime64[ns](1), float64(1), int64(2), object(1)\n",
      "memory usage: 46.9+ KB\n"
     ]
    }
   ],
   "source": [
    "orders.info()"
   ]
  },
  {
   "cell_type": "code",
   "execution_count": 11,
   "metadata": {},
   "outputs": [
    {
     "data": {
      "text/html": [
       "<div>\n",
       "<style scoped>\n",
       "    .dataframe tbody tr th:only-of-type {\n",
       "        vertical-align: middle;\n",
       "    }\n",
       "\n",
       "    .dataframe tbody tr th {\n",
       "        vertical-align: top;\n",
       "    }\n",
       "\n",
       "    .dataframe thead th {\n",
       "        text-align: right;\n",
       "    }\n",
       "</style>\n",
       "<table border=\"1\" class=\"dataframe\">\n",
       "  <thead>\n",
       "    <tr style=\"text-align: right;\">\n",
       "      <th></th>\n",
       "      <th>transactionId</th>\n",
       "      <th>visitorId</th>\n",
       "      <th>date</th>\n",
       "      <th>revenue</th>\n",
       "      <th>group</th>\n",
       "    </tr>\n",
       "  </thead>\n",
       "  <tbody>\n",
       "    <tr>\n",
       "      <td>51</td>\n",
       "      <td>794298435</td>\n",
       "      <td>2914239125</td>\n",
       "      <td>2019-08-16</td>\n",
       "      <td>280.5</td>\n",
       "      <td>B</td>\n",
       "    </tr>\n",
       "    <tr>\n",
       "      <td>622</td>\n",
       "      <td>2148936881</td>\n",
       "      <td>654930236</td>\n",
       "      <td>2019-08-29</td>\n",
       "      <td>300.6</td>\n",
       "      <td>B</td>\n",
       "    </tr>\n",
       "    <tr>\n",
       "      <td>301</td>\n",
       "      <td>2070211595</td>\n",
       "      <td>3294921142</td>\n",
       "      <td>2019-08-03</td>\n",
       "      <td>90.5</td>\n",
       "      <td>A</td>\n",
       "    </tr>\n",
       "    <tr>\n",
       "      <td>471</td>\n",
       "      <td>798048333</td>\n",
       "      <td>3462462738</td>\n",
       "      <td>2019-08-03</td>\n",
       "      <td>40.3</td>\n",
       "      <td>A</td>\n",
       "    </tr>\n",
       "    <tr>\n",
       "      <td>153</td>\n",
       "      <td>4045393544</td>\n",
       "      <td>991436984</td>\n",
       "      <td>2019-08-01</td>\n",
       "      <td>30.5</td>\n",
       "      <td>A</td>\n",
       "    </tr>\n",
       "  </tbody>\n",
       "</table>\n",
       "</div>"
      ],
      "text/plain": [
       "     transactionId   visitorId       date  revenue group\n",
       "51       794298435  2914239125 2019-08-16    280.5     B\n",
       "622     2148936881   654930236 2019-08-29    300.6     B\n",
       "301     2070211595  3294921142 2019-08-03     90.5     A\n",
       "471      798048333  3462462738 2019-08-03     40.3     A\n",
       "153     4045393544   991436984 2019-08-01     30.5     A"
      ]
     },
     "execution_count": 11,
     "metadata": {},
     "output_type": "execute_result"
    }
   ],
   "source": [
    "orders.sample(5)"
   ]
  },
  {
   "cell_type": "code",
   "execution_count": 12,
   "metadata": {},
   "outputs": [
    {
     "name": "stdout",
     "output_type": "stream",
     "text": [
      "Users in group A: 503\n",
      "Users in group B: 586\n"
     ]
    }
   ],
   "source": [
    "#creating lists of group A and group B users to compare\n",
    "\n",
    "usersAList = orders[orders['group'] == \"A\"].agg({'visitorId':'unique'})\n",
    "print('Users in group A:', len(usersAList))\n",
    "\n",
    "usersBList = orders[orders['group'] == \"B\"].agg({'visitorId':'unique'})\n",
    "print('Users in group B:', len(usersBList))"
   ]
  },
  {
   "cell_type": "code",
   "execution_count": 13,
   "metadata": {},
   "outputs": [
    {
     "name": "stdout",
     "output_type": "stream",
     "text": [
      "Number of users presented in both groups: 58\n",
      "Percentage of these users: 5.63%\n"
     ]
    }
   ],
   "source": [
    "#checking whether there are users presented in both A and B group\n",
    "\n",
    "print('Number of users presented in both groups:', len(usersBList[usersBList['visitorId'].isin(usersAList['visitorId'])]))\n",
    "print('Percentage of these users: {:.2%}'.format(len(usersBList[usersBList['visitorId'].isin(usersAList['visitorId'])]) / len(orders['visitorId'].unique())))"
   ]
  },
  {
   "cell_type": "code",
   "execution_count": 14,
   "metadata": {},
   "outputs": [],
   "source": [
    "#dropping these 58 users from orders table.\n",
    "\n",
    "drop_users = usersBList[usersBList['visitorId'].isin(usersAList['visitorId'])]['visitorId'].to_list()\n",
    "\n",
    "orders = orders[~orders['visitorId'].isin(drop_users)]"
   ]
  },
  {
   "cell_type": "markdown",
   "metadata": {},
   "source": [
    "<a id=\"section0c\"></a>\n",
    "\n",
    "We've downloaded the data on hypotheses, visitors, and orders. The 'hypotheses' dataframe is fine, so is the 'visits' one. When checking 'orders' dataframe we've discovered users who belong both to A and B groups, so before we can even look at the results, we remove them from 'orders' table so that they won't distort the results of A/B test. We also see that the sizes of the groups differ, so for later statistical significance test we'll take equal size random samples."
   ]
  },
  {
   "cell_type": "markdown",
   "metadata": {},
   "source": [
    "## Part 1. Prioritizing Hypotheses"
   ]
  },
  {
   "cell_type": "code",
   "execution_count": 15,
   "metadata": {},
   "outputs": [
    {
     "data": {
      "text/html": [
       "<div>\n",
       "<style scoped>\n",
       "    .dataframe tbody tr th:only-of-type {\n",
       "        vertical-align: middle;\n",
       "    }\n",
       "\n",
       "    .dataframe tbody tr th {\n",
       "        vertical-align: top;\n",
       "    }\n",
       "\n",
       "    .dataframe thead th {\n",
       "        text-align: right;\n",
       "    }\n",
       "</style>\n",
       "<table border=\"1\" class=\"dataframe\">\n",
       "  <thead>\n",
       "    <tr style=\"text-align: right;\">\n",
       "      <th></th>\n",
       "      <th>Hypothesis</th>\n",
       "      <th>Reach</th>\n",
       "      <th>Impact</th>\n",
       "      <th>Confidence</th>\n",
       "      <th>Effort</th>\n",
       "    </tr>\n",
       "  </thead>\n",
       "  <tbody>\n",
       "    <tr>\n",
       "      <td>0</td>\n",
       "      <td>Add two new channels for attracting traffic. This will bring 30% more users</td>\n",
       "      <td>3</td>\n",
       "      <td>10</td>\n",
       "      <td>8</td>\n",
       "      <td>6</td>\n",
       "    </tr>\n",
       "    <tr>\n",
       "      <td>1</td>\n",
       "      <td>Launch your own delivery service. This will shorten delivery time</td>\n",
       "      <td>2</td>\n",
       "      <td>5</td>\n",
       "      <td>4</td>\n",
       "      <td>10</td>\n",
       "    </tr>\n",
       "    <tr>\n",
       "      <td>2</td>\n",
       "      <td>Add product recommendation blocks to the store's site. This will increase conversion and average purchase size</td>\n",
       "      <td>8</td>\n",
       "      <td>3</td>\n",
       "      <td>7</td>\n",
       "      <td>3</td>\n",
       "    </tr>\n",
       "    <tr>\n",
       "      <td>3</td>\n",
       "      <td>Change the category structure. This will increase conversion since users will find the products they want more quickly</td>\n",
       "      <td>8</td>\n",
       "      <td>3</td>\n",
       "      <td>3</td>\n",
       "      <td>8</td>\n",
       "    </tr>\n",
       "    <tr>\n",
       "      <td>4</td>\n",
       "      <td>Change the background color on the main page. This will increase user engagement</td>\n",
       "      <td>3</td>\n",
       "      <td>1</td>\n",
       "      <td>1</td>\n",
       "      <td>1</td>\n",
       "    </tr>\n",
       "    <tr>\n",
       "      <td>5</td>\n",
       "      <td>Add a customer review page. This will increase the number of orders</td>\n",
       "      <td>3</td>\n",
       "      <td>2</td>\n",
       "      <td>2</td>\n",
       "      <td>3</td>\n",
       "    </tr>\n",
       "    <tr>\n",
       "      <td>6</td>\n",
       "      <td>Show banners with current offers and sales on the main page. This will boost conversion</td>\n",
       "      <td>5</td>\n",
       "      <td>3</td>\n",
       "      <td>8</td>\n",
       "      <td>3</td>\n",
       "    </tr>\n",
       "    <tr>\n",
       "      <td>7</td>\n",
       "      <td>Add a subscription form to all the main pages. This will help you compile a mailing list</td>\n",
       "      <td>10</td>\n",
       "      <td>7</td>\n",
       "      <td>8</td>\n",
       "      <td>5</td>\n",
       "    </tr>\n",
       "    <tr>\n",
       "      <td>8</td>\n",
       "      <td>Launch a promotion that gives users discounts on their birthdays</td>\n",
       "      <td>1</td>\n",
       "      <td>9</td>\n",
       "      <td>9</td>\n",
       "      <td>5</td>\n",
       "    </tr>\n",
       "  </tbody>\n",
       "</table>\n",
       "</div>"
      ],
      "text/plain": [
       "                                                                                                               Hypothesis  \\\n",
       "0                                             Add two new channels for attracting traffic. This will bring 30% more users   \n",
       "1                                                       Launch your own delivery service. This will shorten delivery time   \n",
       "2          Add product recommendation blocks to the store's site. This will increase conversion and average purchase size   \n",
       "3  Change the category structure. This will increase conversion since users will find the products they want more quickly   \n",
       "4                                        Change the background color on the main page. This will increase user engagement   \n",
       "5                                                     Add a customer review page. This will increase the number of orders   \n",
       "6                                 Show banners with current offers and sales on the main page. This will boost conversion   \n",
       "7                                Add a subscription form to all the main pages. This will help you compile a mailing list   \n",
       "8                                                        Launch a promotion that gives users discounts on their birthdays   \n",
       "\n",
       "   Reach  Impact  Confidence  Effort  \n",
       "0      3      10           8       6  \n",
       "1      2       5           4      10  \n",
       "2      8       3           7       3  \n",
       "3      8       3           3       8  \n",
       "4      3       1           1       1  \n",
       "5      3       2           2       3  \n",
       "6      5       3           8       3  \n",
       "7     10       7           8       5  \n",
       "8      1       9           9       5  "
      ]
     },
     "execution_count": 15,
     "metadata": {},
     "output_type": "execute_result"
    }
   ],
   "source": [
    "hypotheses"
   ]
  },
  {
   "cell_type": "markdown",
   "metadata": {},
   "source": [
    "<a id=\"section1_1\"></a>\n",
    "\n",
    "### Apply the ICE framework to prioritize hypotheses. \n",
    "Sort them in descending order of priority."
   ]
  },
  {
   "cell_type": "code",
   "execution_count": 16,
   "metadata": {},
   "outputs": [],
   "source": [
    "#adding new column with ICE score\n",
    "\n",
    "hypotheses['ICE'] = (hypotheses['Impact'] * hypotheses['Confidence']) / hypotheses['Effort']"
   ]
  },
  {
   "cell_type": "code",
   "execution_count": 17,
   "metadata": {},
   "outputs": [
    {
     "name": "stdout",
     "output_type": "stream",
     "text": [
      "                                                                                                               Hypothesis  \\\n",
      "8                                                        Launch a promotion that gives users discounts on their birthdays   \n",
      "0                                             Add two new channels for attracting traffic. This will bring 30% more users   \n",
      "7                                Add a subscription form to all the main pages. This will help you compile a mailing list   \n",
      "6                                 Show banners with current offers and sales on the main page. This will boost conversion   \n",
      "2          Add product recommendation blocks to the store's site. This will increase conversion and average purchase size   \n",
      "1                                                       Launch your own delivery service. This will shorten delivery time   \n",
      "5                                                     Add a customer review page. This will increase the number of orders   \n",
      "3  Change the category structure. This will increase conversion since users will find the products they want more quickly   \n",
      "4                                        Change the background color on the main page. This will increase user engagement   \n",
      "\n",
      "         ICE  \n",
      "8  16.200000  \n",
      "0  13.333333  \n",
      "7  11.200000  \n",
      "6   8.000000  \n",
      "2   7.000000  \n",
      "1   2.000000  \n",
      "5   1.333333  \n",
      "3   1.125000  \n",
      "4   1.000000  \n"
     ]
    }
   ],
   "source": [
    "#printing out sorted in descending order list\n",
    "\n",
    "print(hypotheses[['Hypothesis', 'ICE']].sort_values(by='ICE', ascending=False))"
   ]
  },
  {
   "cell_type": "markdown",
   "metadata": {},
   "source": [
    "<a id=\"section1_1c\"></a>\n",
    "\n",
    "The hypothesis with the highest ICE score of 16.2 is hypothesis 8 (Launch a promotion that gives users discounts on their birthdays). It has 9 on Impact and Confidence scales, and 5 on Effort Scale. Second goes hypothesis with ICE score of 13.3, which is hypothesis 0 (Add two new channels for attracting traffic. This will bring 30% more users). It has the highest score (10) on Impact scale, 8 on Confidence and 6 on Effort. We see that eventhough Impact parameter is higher, Confidence parameter is lower and it demands more Effort. Third comes hypothesis with ICE score of 11.2, which is hypothesis 7 (Add a subscription form to all the main pages. This will help you compile a mailing list). It has 7 on Impact, 8 on Confidence, and 5 on Effort scales. We see that Effort parameter is lower, but so are Impact and Confidence parameters."
   ]
  },
  {
   "cell_type": "markdown",
   "metadata": {},
   "source": [
    "What can we say about our hypotheses when assesing them with ICE framework?\n",
    "\n",
    "I would recommend marketing specialists to launch a promotion that gives users discounts on their birthdays, it won't take much effort, but will have high impact, and we're confident about that.\n",
    "I would also recommend to add two new channels for attracting traffic (this will bring 30% more users). Same reasoms here: medium effort, high impact, high confidence.\n",
    "In addition, I would recommend to consider adding a subscription form to all the main pages (this will help compile a mailing list). This would take medium effort, but impact is relatively high, and we're pretty sure it'll work."
   ]
  },
  {
   "cell_type": "markdown",
   "metadata": {},
   "source": [
    "<a id=\"section1_2\"></a>\n",
    "\n",
    "### Apply the RICE framework to prioritize hypotheses. \n",
    "Sort them in descending order of priority."
   ]
  },
  {
   "cell_type": "code",
   "execution_count": 18,
   "metadata": {},
   "outputs": [],
   "source": [
    "#adding new column with RICE score\n",
    "\n",
    "hypotheses['RICE'] = (hypotheses['Reach'] * hypotheses['Impact'] * hypotheses['Confidence']) / hypotheses['Effort']"
   ]
  },
  {
   "cell_type": "code",
   "execution_count": 19,
   "metadata": {},
   "outputs": [
    {
     "name": "stdout",
     "output_type": "stream",
     "text": [
      "                                                                                                               Hypothesis  \\\n",
      "7                                Add a subscription form to all the main pages. This will help you compile a mailing list   \n",
      "2          Add product recommendation blocks to the store's site. This will increase conversion and average purchase size   \n",
      "0                                             Add two new channels for attracting traffic. This will bring 30% more users   \n",
      "6                                 Show banners with current offers and sales on the main page. This will boost conversion   \n",
      "8                                                        Launch a promotion that gives users discounts on their birthdays   \n",
      "3  Change the category structure. This will increase conversion since users will find the products they want more quickly   \n",
      "1                                                       Launch your own delivery service. This will shorten delivery time   \n",
      "5                                                     Add a customer review page. This will increase the number of orders   \n",
      "4                                        Change the background color on the main page. This will increase user engagement   \n",
      "\n",
      "    RICE  \n",
      "7  112.0  \n",
      "2   56.0  \n",
      "0   40.0  \n",
      "6   40.0  \n",
      "8   16.2  \n",
      "3    9.0  \n",
      "1    4.0  \n",
      "5    4.0  \n",
      "4    3.0  \n"
     ]
    }
   ],
   "source": [
    "#printing out sorted in descending order list\n",
    "\n",
    "print(hypotheses[['Hypothesis', 'RICE']].sort_values(by='RICE', ascending=False))"
   ]
  },
  {
   "cell_type": "markdown",
   "metadata": {},
   "source": [
    "<a id=\"section1_2c\"></a>\n",
    "\n",
    "The hypothesis with the highest RICE score of 112 (significantly higher than the others) is hypothesis 7 (\"Add a subscription form to all the main pages. This will help you compile a mailing list\"). It has the highest score (10) on Reach parameter, high (7) Impact, also high (8) Confidence, and medium (5) Effort parameters. Then comes hypothesis with RICE score of 56 - hypothesis 2 (\"Add product recommendation blocks to the store's site. This will increase conversion and average purchase size\"). It has high (8) Reach, low (3) Impact, medium (7) Confidence, and low (3) Effort parameters. So eventhough Impact is low, so is the Effort parameter. On the third place there are two hypotheses with ICE score of 40 - hypothesis 0 (\"Add two new channels for attracting traffic. This will bring 30% more users\") and hypothesis 6 (\"Show banners with current offers and sales on the main page. This will boost conversion\"). Hypothesis 0 has low Reach (3), high Impact (10), high Confidence (8), and medium Effort of 6. Hypothesis 6 has medium (5) Reach, low (3) Impact, high (8) Confidence, and low Effort (3)."
   ]
  },
  {
   "cell_type": "markdown",
   "metadata": {},
   "source": [
    "When we apply RICE framework, we get slightly different results, so we'll nedd to rewrite our recommendations.\n",
    "\n",
    "I would highly recommend to add a subscription form to all the main pages (this will help compile a mailing list). It has medium effort, pretty high impact, and very high reach. \n",
    "I would also recommend to add product recommendation blocks to the store's site (this will increase conversion and average purchase size). It's impact isn't the highest, but the reach is pretty high, and it also doesn't take much effort.\n",
    "In addition, I would recommend to consider adding two new channels for attracting traffic (this will bring 30% more users) and showing banners with current offers and sales on the main page (this will boost conversion). "
   ]
  },
  {
   "cell_type": "markdown",
   "metadata": {},
   "source": [
    "<a id=\"section1_3\"></a>\n",
    "\n",
    "### Show how the prioritization of hypotheses changes when you use RICE instead of ICE. \n",
    "Provide an explanation for the changes."
   ]
  },
  {
   "cell_type": "code",
   "execution_count": 20,
   "metadata": {},
   "outputs": [],
   "source": [
    "#creating a data slice for visualization\n",
    "\n",
    "hypotheses_score_change = hypotheses[['ICE', 'RICE']].copy()"
   ]
  },
  {
   "cell_type": "code",
   "execution_count": 21,
   "metadata": {},
   "outputs": [],
   "source": [
    "#normalizing ICE score so it would look little nicer on the graph\n",
    "\n",
    "hypotheses_score_change['ICE'] = hypotheses_score_change['ICE'] * 10"
   ]
  },
  {
   "cell_type": "code",
   "execution_count": 22,
   "metadata": {},
   "outputs": [
    {
     "data": {
      "image/png": "[encoded data removed]",
      "text/plain": [
       "<Figure size 576x432 with 2 Axes>"
      ]
     },
     "metadata": {
      "needs_background": "light"
     },
     "output_type": "display_data"
    }
   ],
   "source": [
    "#visualizing ICE and RICE scores for a list of hypotheses\n",
    "\n",
    "plt.figure(figsize=(8,6))\n",
    "plt.title('ICE and RICE scores of hypotheses, normalized')\n",
    "ax = sns.heatmap(hypotheses_score_change, annot=True, linewidth=1, fmt='g', linecolor='gray', cmap='Reds')\n",
    "ax.set_ylabel('Hypotheses')\n",
    "plt.show()"
   ]
  },
  {
   "cell_type": "code",
   "execution_count": 79,
   "metadata": {},
   "outputs": [
    {
     "data": {
      "text/plain": [
       "<Figure size 864x576 with 0 Axes>"
      ]
     },
     "metadata": {},
     "output_type": "display_data"
    },
    {
     "data": {
      "image/png": "[encoded data removed]",
      "text/plain": [
       "<Figure size 1008x504 with 1 Axes>"
      ]
     },
     "metadata": {
      "needs_background": "light"
     },
     "output_type": "display_data"
    }
   ],
   "source": [
    "#visualizing ICE and RICE scores for a list of hypotheses\n",
    "\n",
    "plt.figure(figsize=(12,8))\n",
    "ax = hypotheses_score_change.plot(kind=\"bar\", figsize=(14,7), grid=True, title='ICE and RICE score for hypotheses')\n",
    "ax.set_xlabel('Hypotheses')\n",
    "ax.set_ylabel('Score')\n",
    "plt.show()"
   ]
  },
  {
   "cell_type": "markdown",
   "metadata": {},
   "source": [
    "<a id=\"section1_3c\"></a>\n",
    "\n",
    "What changed when we rank hypotheses according to RICE and not ICE? We see that hypothesis 8, which had the highest ICE score, goes down in the RICE score list, since its Reach parameter (1) is the lowest of all hypotheses. Hypothesis 0 has the second place in ICE score list, and third in RICE list, its Reach parameter is relatively low (3). Third on ICE score list comes hypothesis 7, which got first position in RICE score since its Reach parameter is the highest possible (10). Hypotheses 6 and 2 kept their places in top 5 hypotheses (theis Reach parameters are 5 and 8).\n",
    "Overall we see, that adding Reach parameter to our assesing can drastically change the picture, leaving us in the end with hypotheses 7 (\"Add a subscription form to all the main pages. This will help you compile a mailing list\"), 2 (\"Add product recommendation blocks to the store's site. This will increase conversion and average purchase size\"), 0 (\"Add two new channels for attracting traffic. This will bring 30% more users\") and 6 (\"Show banners with current offers and sales on the main page. This will boost conversion\")."
   ]
  },
  {
   "cell_type": "markdown",
   "metadata": {},
   "source": [
    "## Part 2. A/B Test Analysis"
   ]
  },
  {
   "cell_type": "markdown",
   "metadata": {},
   "source": [
    "You carried out an A/B test and got the results described in the files orders_us.csv and visits_us.csv.\n",
    "Task\n",
    "Analyze the A/B test:"
   ]
  },
  {
   "cell_type": "code",
   "execution_count": 23,
   "metadata": {},
   "outputs": [],
   "source": [
    "#building an array with unique paired date group values\n",
    "\n",
    "datesGroups = orders[['date', 'group']].drop_duplicates()"
   ]
  },
  {
   "cell_type": "code",
   "execution_count": 24,
   "metadata": {},
   "outputs": [],
   "source": [
    "#aggregate cumulative daily data on orders\n",
    "\n",
    "ordersAggregated = datesGroups.apply(lambda x: \n",
    "                                     orders[np.logical_and(orders['date'] <= x['date'], orders['group'] == x['group'])].agg\n",
    "                                     ({'date':'max', 'group':'max', 'transactionId':'nunique', 'visitorId':'nunique', 'revenue':'sum'}),\n",
    "                                    axis=1).sort_values(by=['date', 'group'])"
   ]
  },
  {
   "cell_type": "code",
   "execution_count": 25,
   "metadata": {},
   "outputs": [],
   "source": [
    "#aggregate cumulative data on visits\n",
    "\n",
    "visitsAggregated = datesGroups.apply(lambda x:\n",
    "                                    visits[np.logical_and(visits['date'] <= x['date'], visits['group'] == x['group'])].agg\n",
    "                                    ({'date':'max', 'group':'max', 'visits':'sum'}), axis=1).sort_values(by=['date', 'group'])"
   ]
  },
  {
   "cell_type": "code",
   "execution_count": 26,
   "metadata": {},
   "outputs": [],
   "source": [
    "#merging tables into one and giving its columns descriptive names\n",
    "\n",
    "cumulativeData = ordersAggregated.merge(visitsAggregated, left_on=['date', 'group'], right_on=['date', 'group'])\n",
    "cumulativeData.columns = ['date', 'group', 'orders', 'buyers', 'revenue', 'visitors']"
   ]
  },
  {
   "cell_type": "markdown",
   "metadata": {},
   "source": [
    "<a id=\"section2_1\"></a>\n",
    "\n",
    "### Graph cumulative revenue by group. "
   ]
  },
  {
   "cell_type": "code",
   "execution_count": 27,
   "metadata": {},
   "outputs": [],
   "source": [
    "#DataFrame with cumulative orders and cumulative revenue by day, group A\n",
    "\n",
    "cumulativeRevenueA = cumulativeData[cumulativeData['group'] == 'A'][['date', 'revenue', 'orders']].copy()"
   ]
  },
  {
   "cell_type": "code",
   "execution_count": 28,
   "metadata": {},
   "outputs": [],
   "source": [
    "#DataFrame with cumulative orders and cumulative revenue by day, group B\n",
    "\n",
    "cumulativeRevenueB = cumulativeData[cumulativeData['group'] == 'B'][['date', 'revenue', 'orders']].copy()"
   ]
  },
  {
   "cell_type": "code",
   "execution_count": 80,
   "metadata": {},
   "outputs": [
    {
     "data": {
      "image/png": "[encoded data removed]",
      "text/plain": [
       "<Figure size 864x504 with 1 Axes>"
      ]
     },
     "metadata": {
      "needs_background": "light"
     },
     "output_type": "display_data"
    }
   ],
   "source": [
    "#visualizing cumulative revenue by group\n",
    "\n",
    "plt.figure(figsize=(12,7))\n",
    "plt.title('Cumulative revenue by groups')\n",
    "plt.plot(cumulativeRevenueA['date'], cumulativeRevenueA['revenue'], label='A')\n",
    "plt.plot(cumulativeRevenueB['date'], cumulativeRevenueB['revenue'], label='B')\n",
    "plt.ylabel('Revenue')\n",
    "plt.legend()\n",
    "plt.show()"
   ]
  },
  {
   "cell_type": "markdown",
   "metadata": {},
   "source": [
    "<a id=\"section2_1c\"></a>\n",
    "\n",
    "Revenue is rising, that's a good sign. For group B, we see a sudden spike between August 17 and August 21, this might be due to the presence of big, expensive orders."
   ]
  },
  {
   "cell_type": "markdown",
   "metadata": {},
   "source": [
    "<a id=\"section2_2\"></a>\n",
    "\n",
    "### Graph cumulative average order size by group. "
   ]
  },
  {
   "cell_type": "code",
   "execution_count": 84,
   "metadata": {},
   "outputs": [
    {
     "data": {
      "image/png": "[encoded data removed]",
      "text/plain": [
       "<Figure size 864x504 with 1 Axes>"
      ]
     },
     "metadata": {
      "needs_background": "light"
     },
     "output_type": "display_data"
    }
   ],
   "source": [
    "#visualizing cumulative average order size by groups\n",
    "\n",
    "plt.figure(figsize=(12,7))\n",
    "plt.title('Cumulative average order size by groups')\n",
    "plt.plot(cumulativeRevenueA['date'], cumulativeRevenueA['revenue'] / cumulativeRevenueA['orders'], color='blue', label='Group A')\n",
    "plt.plot(cumulativeRevenueB['date'], cumulativeRevenueB['revenue'] / cumulativeRevenueB['orders'], color='orange', label='Group B')\n",
    "plt.axhline((cumulativeRevenueA['revenue'] / cumulativeRevenueA['orders']).mean(), color='blue', linestyle='--', label='Group A average')\n",
    "plt.axhline((cumulativeRevenueB['revenue'] / cumulativeRevenueB['orders']).mean(), color='orange', linestyle='--', label='Group B average')\n",
    "plt.ylabel('Average revenue size')\n",
    "plt.legend()\n",
    "plt.show()"
   ]
  },
  {
   "cell_type": "markdown",
   "metadata": {},
   "source": [
    "<a id=\"section2_2c\"></a>\n",
    "\n",
    "Average order size stabilizes by the end of the test, although we still see this huge spike for group B, that might be due to the presence of large, expensive orders."
   ]
  },
  {
   "cell_type": "markdown",
   "metadata": {},
   "source": [
    "<a id=\"section2_3\"></a>\n",
    "\n",
    "### Graph the relative difference in cumulative average order size for group B compared with group A. "
   ]
  },
  {
   "cell_type": "code",
   "execution_count": 31,
   "metadata": {},
   "outputs": [],
   "source": [
    "#gathering the data into one DataFrame\n",
    "\n",
    "mergedCumulativeRevenue = cumulativeRevenueA.merge(cumulativeRevenueB, left_on='date', right_on='date', how='left', suffixes=['A', 'B'])"
   ]
  },
  {
   "cell_type": "code",
   "execution_count": 32,
   "metadata": {},
   "outputs": [
    {
     "data": {
      "image/png": "[encoded data removed]",
      "text/plain": [
       "<Figure size 864x504 with 1 Axes>"
      ]
     },
     "metadata": {
      "needs_background": "light"
     },
     "output_type": "display_data"
    }
   ],
   "source": [
    "#visualizing relative difference in cumulative average order size\n",
    "plt.figure(figsize=(12,7))\n",
    "plt.title('Cumulative average order size by groups')\n",
    "plt.plot(mergedCumulativeRevenue['date'], (mergedCumulativeRevenue['revenueB'] / mergedCumulativeRevenue['ordersB']) /\n",
    "        (mergedCumulativeRevenue['revenueA'] / mergedCumulativeRevenue['ordersA']) -1)\n",
    "plt.axhline(y=0, color='black', linestyle='--')\n",
    "plt.show()\n"
   ]
  },
  {
   "cell_type": "markdown",
   "metadata": {},
   "source": [
    "<a id=\"section2_3c\"></a>\n",
    "\n",
    "We see several spikes in difference, which means that we probably have some big orders and outliers."
   ]
  },
  {
   "cell_type": "markdown",
   "metadata": {},
   "source": [
    "<a id=\"section2_4\"></a>\n",
    "\n",
    "### Calculate each group's conversion rate as the ratio of orders to the number of visits for each day. "
   ]
  },
  {
   "cell_type": "code",
   "execution_count": 33,
   "metadata": {},
   "outputs": [],
   "source": [
    "#calculating cumulative conversion\n",
    "\n",
    "cumulativeData['conversion'] = cumulativeData['orders'] / cumulativeData['visitors']"
   ]
  },
  {
   "cell_type": "code",
   "execution_count": 34,
   "metadata": {},
   "outputs": [],
   "source": [
    "#selecting data on group A\n",
    "\n",
    "cumulativeDataA = cumulativeData[cumulativeData['group'] == 'A']"
   ]
  },
  {
   "cell_type": "code",
   "execution_count": 35,
   "metadata": {},
   "outputs": [],
   "source": [
    "#selecting data on group B\n",
    "\n",
    "cumulativeDataB = cumulativeData[cumulativeData['group'] == 'B']"
   ]
  },
  {
   "cell_type": "code",
   "execution_count": 36,
   "metadata": {},
   "outputs": [
    {
     "data": {
      "image/png": "[encoded data removed]",
      "text/plain": [
       "<Figure size 864x504 with 1 Axes>"
      ]
     },
     "metadata": {
      "needs_background": "light"
     },
     "output_type": "display_data"
    }
   ],
   "source": [
    "#visualizing each group's conversion rate\n",
    "\n",
    "plt.figure(figsize=(12,7))\n",
    "plt.title(\"Groups' conversion rate\")\n",
    "plt.plot(cumulativeDataA['date'], cumulativeDataA['conversion'], label='A')\n",
    "plt.plot(cumulativeDataB['date'], cumulativeDataB['conversion'], label='B')\n",
    "plt.legend()\n",
    "plt.show()"
   ]
  },
  {
   "cell_type": "markdown",
   "metadata": {},
   "source": [
    "<a id=\"section2_4c\"></a>\n",
    "\n",
    "We see some fluctuations in the beginning of the test, and by the end we see it stabilized and slowly decreasing for both groups, although group B's conversion rate is higher."
   ]
  },
  {
   "cell_type": "markdown",
   "metadata": {},
   "source": [
    "<a id=\"section2_4_0\"></a>\n",
    "\n",
    "#### Relative gain in conversion for group B compared with group A. "
   ]
  },
  {
   "cell_type": "code",
   "execution_count": 37,
   "metadata": {},
   "outputs": [],
   "source": [
    "#merging cumulative conversions into one DataFrame\n",
    "\n",
    "mergedCumulativeConversions = cumulativeDataA[['date', 'conversion']].merge(cumulativeDataB[['date', 'conversion']], \n",
    "                                                                            left_on='date', right_on='date', \n",
    "                                                                           how='left', suffixes=['A', 'B'])"
   ]
  },
  {
   "cell_type": "code",
   "execution_count": 41,
   "metadata": {},
   "outputs": [
    {
     "data": {
      "image/png": "[encoded data removed]",
      "text/plain": [
       "<Figure size 864x504 with 1 Axes>"
      ]
     },
     "metadata": {
      "needs_background": "light"
     },
     "output_type": "display_data"
    }
   ],
   "source": [
    "#visualizing relative conversion gain\n",
    "\n",
    "plt.figure(figsize=(12,7))\n",
    "plt.title('Relative gain in conversion for group B compared with group A')\n",
    "plt.plot(mergedCumulativeConversions['date'], \n",
    "         mergedCumulativeConversions['conversionB'] / mergedCumulativeConversions['conversionA'] -1)\n",
    "plt.axhline(y=0, color='black', linestyle='--')\n",
    "plt.show()"
   ]
  },
  {
   "cell_type": "markdown",
   "metadata": {},
   "source": [
    "<a id=\"section2_4_0c\"></a>\n",
    "\n",
    "We see fluctuations in the beginning of the test, after a week graph stabilizes and shows us, that conversion rate is higher in group B than it is in group A."
   ]
  },
  {
   "cell_type": "markdown",
   "metadata": {},
   "source": [
    "<a id=\"section2_5\"></a>\n",
    "\n",
    "### Plot a scatter chart of the number of orders per user. "
   ]
  },
  {
   "cell_type": "code",
   "execution_count": 36,
   "metadata": {},
   "outputs": [],
   "source": [
    "#finding the number of orders per user\n",
    "\n",
    "ordersByUsers = orders.drop(['group', 'revenue', 'date'], axis=1).groupby(\n",
    "'visitorId', as_index=False).agg({'transactionId':'nunique'})\n",
    "\n",
    "ordersByUsers.columns = ['visitorId', 'orders']"
   ]
  },
  {
   "cell_type": "code",
   "execution_count": 37,
   "metadata": {},
   "outputs": [
    {
     "name": "stdout",
     "output_type": "stream",
     "text": [
      "      visitorId  orders\n",
      "908  3967698036       3\n",
      "55    249864742       3\n",
      "478  2108163459       3\n",
      "687  2988190573       3\n",
      "890  3908431265       3\n",
      "138   611059232       3\n",
      "632  2742574263       3\n",
      "157   678354126       2\n",
      "323  1404560065       2\n",
      "452  1985475298       2\n"
     ]
    }
   ],
   "source": [
    "print(ordersByUsers.sort_values(by='orders', ascending=False).head(10))"
   ]
  },
  {
   "cell_type": "code",
   "execution_count": 38,
   "metadata": {},
   "outputs": [
    {
     "data": {
      "image/png": "[encoded data removed]",
      "text/plain": [
       "<Figure size 504x360 with 1 Axes>"
      ]
     },
     "metadata": {
      "needs_background": "light"
     },
     "output_type": "display_data"
    }
   ],
   "source": [
    "#visualising number of orders per user\n",
    "\n",
    "x_values = pd.Series(range(0, len(ordersByUsers)))\n",
    "\n",
    "plt.figure(figsize=(7,5))\n",
    "plt.title('Scatter plot for number of orders per user')\n",
    "plt.ylabel('Number of orders')\n",
    "plt.scatter(x_values, ordersByUsers['orders'])\n",
    "plt.show()"
   ]
  },
  {
   "cell_type": "markdown",
   "metadata": {},
   "source": [
    "<a id=\"section2_5c\"></a>\n",
    "\n",
    "We see that mostly users make 1 order, small part of them make 2 orders and very few make 3.  (in this case, we might consider 3 orders an outlier, although according to common sense it doesn't seem like one)."
   ]
  },
  {
   "cell_type": "markdown",
   "metadata": {},
   "source": [
    "<a id=\"section2_6\"></a>\n",
    "\n",
    "### Define the point at which a data point becomes an anomaly.\n",
    "Calculate the 95th and 99th percentiles for the number of orders per user. "
   ]
  },
  {
   "cell_type": "code",
   "execution_count": 39,
   "metadata": {},
   "outputs": [
    {
     "name": "stdout",
     "output_type": "stream",
     "text": [
      "[1. 2.]\n"
     ]
    }
   ],
   "source": [
    "#calculating 95th and 99th percentile\n",
    "\n",
    "print(np.percentile(ordersByUsers['orders'], [95,99]))"
   ]
  },
  {
   "cell_type": "markdown",
   "metadata": {},
   "source": [
    "<a id=\"section2_6c\"></a>\n",
    "\n",
    "The variance of number of orders isn't that big - it's either 1, 2, or 3 orders. We see that 95% of users made no more than 1 order, and 99% of users made no more than 2 orders. Therefore, in this specific case it would be reasonable to consider all number of orders more then 2 (i.e. 3 orders) an outlier."
   ]
  },
  {
   "cell_type": "markdown",
   "metadata": {},
   "source": [
    "<a id=\"section2_7\"></a>\n",
    "\n",
    "### Plot a scatter chart of order prices. "
   ]
  },
  {
   "cell_type": "code",
   "execution_count": 40,
   "metadata": {},
   "outputs": [
    {
     "data": {
      "image/png": "[encoded data removed]",
      "text/plain": [
       "<Figure size 504x360 with 1 Axes>"
      ]
     },
     "metadata": {
      "needs_background": "light"
     },
     "output_type": "display_data"
    }
   ],
   "source": [
    "#visualising order prices\n",
    "\n",
    "x_values = pd.Series(range(0, len(orders['revenue'])))\n",
    "\n",
    "plt.figure(figsize=(7,5))\n",
    "plt.title('Scatter plot for order prices')\n",
    "plt.ylabel('Revenue size')\n",
    "plt.scatter(x_values, orders['revenue'])\n",
    "plt.show()"
   ]
  },
  {
   "cell_type": "markdown",
   "metadata": {},
   "source": [
    "<a id=\"section2_7c\"></a>\n",
    "\n",
    "We see that for almost all orders size is under 1500, but there clearly are outliers."
   ]
  },
  {
   "cell_type": "code",
   "execution_count": 60,
   "metadata": {},
   "outputs": [
    {
     "data": {
      "image/png": "[encoded data removed]",
      "text/plain": [
       "<Figure size 1080x360 with 1 Axes>"
      ]
     },
     "metadata": {
      "needs_background": "light"
     },
     "output_type": "display_data"
    }
   ],
   "source": [
    "#visualizing order prices in more informative way\n",
    "\n",
    "plt.figure(figsize=(15,5))\n",
    "plt.title('Order prices (up to 1000)')\n",
    "plt.axis([0, 1500, 0, 1])\n",
    "ax = sns.boxplot(x=orders['revenue'])\n",
    "plt.show()"
   ]
  },
  {
   "cell_type": "markdown",
   "metadata": {},
   "source": [
    "When we look at more detailed graph, we see that mostly we have orders with price below 200, and we also got some orders between 200 and 700, and very few orders have price above 700."
   ]
  },
  {
   "cell_type": "markdown",
   "metadata": {},
   "source": [
    "<a id=\"section2_8\"></a>\n",
    "\n",
    "### Define the point at which a data point becomes an anomaly.\n",
    "Calculate the 95th and 99th percentiles of order prices. "
   ]
  },
  {
   "cell_type": "code",
   "execution_count": 41,
   "metadata": {},
   "outputs": [
    {
     "name": "stdout",
     "output_type": "stream",
     "text": [
      "[414.275 830.3  ]\n"
     ]
    }
   ],
   "source": [
    "print(np.percentile(orders['revenue'], [95,99]))"
   ]
  },
  {
   "cell_type": "markdown",
   "metadata": {},
   "source": [
    "<a id=\"section2_8c\"></a>\n",
    "\n",
    "Calculating percentiles, we see that no more than 5% of orders cost more than 414, and no more than 1% cost more than 830.\n",
    "Given that range, we can consider all orders with cost above 800 an outliers."
   ]
  },
  {
   "cell_type": "markdown",
   "metadata": {},
   "source": [
    "<a id=\"section2_9\"></a>\n",
    "\n",
    "### Find the statistical significance of the difference in conversion between the groups using the raw data. "
   ]
  },
  {
   "cell_type": "code",
   "execution_count": 42,
   "metadata": {},
   "outputs": [],
   "source": [
    "#creating variables to store uset IDs and orders they've made for group A\n",
    "\n",
    "ordersByUsersA = orders[orders['group'] == 'A'].groupby('visitorId', as_index=False).agg({'transactionId':'nunique'})\n",
    "ordersByUsersA.columns = ['visitorId', 'orders']"
   ]
  },
  {
   "cell_type": "code",
   "execution_count": 43,
   "metadata": {},
   "outputs": [],
   "source": [
    "#creating variables to store uset IDs and orders they've made for group B\n",
    "\n",
    "ordersByUsersB = orders[orders['group'] == 'B'].groupby('visitorId', as_index=False).agg({'transactionId':'nunique'})\n",
    "ordersByUsersB.columns = ['visitorId', 'orders']"
   ]
  },
  {
   "cell_type": "code",
   "execution_count": 44,
   "metadata": {},
   "outputs": [],
   "source": [
    "#creating variables with number of orders from group A (users who didn't order will have 0)\n",
    "\n",
    "sampleA = pd.concat([ordersByUsersA['orders'], pd.Series(0, index=np.arange(\n",
    "    visits[visits['group'] == 'A']['visits'].sum() - len(ordersByUsersA['orders'])), name='orders')], axis=0)"
   ]
  },
  {
   "cell_type": "code",
   "execution_count": 45,
   "metadata": {},
   "outputs": [],
   "source": [
    "#creating variables with number of orders from group B (users who didn't order will have 0)\n",
    "\n",
    "sampleB = pd.concat([ordersByUsersB['orders'], pd.Series(0, index=np.arange(\n",
    "    visits[visits['group'] == 'B']['visits'].sum() - len(ordersByUsersB['orders'])), name='orders')], axis=0)"
   ]
  },
  {
   "cell_type": "code",
   "execution_count": 46,
   "metadata": {},
   "outputs": [
    {
     "name": "stdout",
     "output_type": "stream",
     "text": [
      "Size of sample A: 18736\n",
      "Size of sample B: 18916\n"
     ]
    }
   ],
   "source": [
    "#checking the size of the samples\n",
    "\n",
    "print('Size of sample A:', len(sampleA))\n",
    "print('Size of sample B:', len(sampleB))"
   ]
  },
  {
   "cell_type": "code",
   "execution_count": 47,
   "metadata": {},
   "outputs": [],
   "source": [
    "#reducing the size of sample B so statistical test would have higher power\n",
    "\n",
    "sampleBForTest = sampleB.sample(18736)"
   ]
  },
  {
   "cell_type": "code",
   "execution_count": 48,
   "metadata": {},
   "outputs": [
    {
     "name": "stdout",
     "output_type": "stream",
     "text": [
      "p-value: 0.006\n",
      "Relative conversion gain: 15.98%\n"
     ]
    }
   ],
   "source": [
    "#applying statistical criterion to find the statistical significance of the difference in conversion between the groups\n",
    "\n",
    "print('p-value: '\"{0:.3f}\".format(stats.mannwhitneyu(sampleA, sampleBForTest)[1]))\n",
    "print('Relative conversion gain: '\"{0:.2%}\".format(sampleB.mean() / sampleA.mean() -1))"
   ]
  },
  {
   "cell_type": "markdown",
   "metadata": {},
   "source": [
    "Our null hypothesis here is: \"There's no statistically significant difference in conversion rate between the groups A and B, they're the same\". Our alternative hypothesis is: \"There is a statistically significant difference in conversion rate between group A and group B\"."
   ]
  },
  {
   "cell_type": "markdown",
   "metadata": {},
   "source": [
    "<a id=\"section2_9c\"></a>\n",
    "\n",
    "The p-value is considerably smaller than 0.05, so we reject the null hypothesis (that there's no statistically significant difference in conversion between the groups).\n",
    "Therefore, we can conclude that the relative difference in conversion of 16% (group B comparing to group A) is statistically significant."
   ]
  },
  {
   "cell_type": "markdown",
   "metadata": {},
   "source": [
    "<a id=\"section2_10\"></a>\n",
    "\n",
    "### Find the statistical significance of the difference in average order size between the groups using the raw data. "
   ]
  },
  {
   "cell_type": "code",
   "execution_count": 49,
   "metadata": {},
   "outputs": [
    {
     "name": "stdout",
     "output_type": "stream",
     "text": [
      "p-value: 0.431\n",
      "Relative difference in average order size: 27.83%\n"
     ]
    }
   ],
   "source": [
    "#applying statistical criterion to find the statistical significance of the difference in average order size between the groups\n",
    "\n",
    "print('p-value: '\"{0:.3f}\".format(stats.mannwhitneyu(orders[orders['group'] == 'A']['revenue'], \n",
    "                                                     orders[orders['group'] == 'B']['revenue'])[1]))\n",
    "\n",
    "print('Relative difference in average order size: '\"{0:.2%}\".format(orders[orders['group'] == 'B']['revenue'].mean() / \n",
    "                                                                    orders[orders['group'] == 'A']['revenue'].mean() -1))"
   ]
  },
  {
   "cell_type": "markdown",
   "metadata": {},
   "source": [
    "Our null hypothesis here: \"There's no statistically significant difference in average order size between group A and group B, they're the same\". Our alternative hypothesis is: \"The difference in average order size between the groups is statistically significant\"."
   ]
  },
  {
   "cell_type": "markdown",
   "metadata": {},
   "source": [
    "<a id=\"section2_10c\"></a>\n",
    "\n",
    "The p-value is considerably higher than 0.05, so there's no reason to reject the null hypothesis (that there's no difference between groups in terms of average order size). Nonetheless, we see that average order size for group B is much bigger (27% difference)."
   ]
  },
  {
   "cell_type": "markdown",
   "metadata": {},
   "source": [
    "<a id=\"section2_11\"></a>\n",
    "\n",
    "### Find the statistical significance of the difference in conversion between the groups using the filtered data. "
   ]
  },
  {
   "cell_type": "code",
   "execution_count": 50,
   "metadata": {},
   "outputs": [],
   "source": [
    "#defining anomalous users\n",
    "\n",
    "usersWithManyOrders = pd.concat([ordersByUsersA[ordersByUsersA['orders'] > 2]['visitorId'], \n",
    "                                 ordersByUsersB[ordersByUsersB['orders'] > 2]['visitorId']], axis=0)\n",
    "\n",
    "usersWithExpensiveOrders = orders[orders['revenue'] > 800]['visitorId']\n",
    "\n",
    "abnormalUsers = pd.concat([usersWithManyOrders, usersWithExpensiveOrders], axis=0).drop_duplicates().sort_values()"
   ]
  },
  {
   "cell_type": "code",
   "execution_count": 51,
   "metadata": {},
   "outputs": [
    {
     "name": "stdout",
     "output_type": "stream",
     "text": [
      "Number of abnormal users:  22\n"
     ]
    }
   ],
   "source": [
    "#finding their number\n",
    "\n",
    "print('Number of abnormal users: ', abnormalUsers.shape[0])"
   ]
  },
  {
   "cell_type": "code",
   "execution_count": 52,
   "metadata": {},
   "outputs": [],
   "source": [
    "#creating sample of filtered data for group A\n",
    "\n",
    "sampleAFiltered = pd.concat([ordersByUsersA[np.logical_not(ordersByUsersA['visitorId'].isin(abnormalUsers))]['orders'], \n",
    "                             pd.Series(0, index=np.arange(visits[visits['group'] == 'A']['visits'].sum() - \n",
    "                                                          len(ordersByUsersA['orders'])), name='orders')], axis=0)"
   ]
  },
  {
   "cell_type": "code",
   "execution_count": 53,
   "metadata": {},
   "outputs": [],
   "source": [
    "#creating sample of filtered data for group B\n",
    "\n",
    "sampleBFiltered = pd.concat([ordersByUsersB[np.logical_not(ordersByUsersB['visitorId'].isin(abnormalUsers))]['orders'], \n",
    "                             pd.Series(0, index=np.arange(visits[visits['group'] == 'B']['visits'].sum() - \n",
    "                                                          len(ordersByUsersB['orders'])), name='orders')], axis=0)"
   ]
  },
  {
   "cell_type": "code",
   "execution_count": 54,
   "metadata": {},
   "outputs": [
    {
     "name": "stdout",
     "output_type": "stream",
     "text": [
      "Size of filtered sample A: 18722\n",
      "Size of filtered sample B: 18908\n"
     ]
    }
   ],
   "source": [
    "#checking the size of the samples\n",
    "\n",
    "\n",
    "print('Size of filtered sample A:', len(sampleAFiltered))\n",
    "print('Size of filtered sample B:', len(sampleBFiltered))"
   ]
  },
  {
   "cell_type": "code",
   "execution_count": 55,
   "metadata": {},
   "outputs": [],
   "source": [
    "#reducing the size of sample B so the statistical test will have higher power\n",
    "\n",
    "sampleBFilteredForTest = sampleB.sample(18722)"
   ]
  },
  {
   "cell_type": "code",
   "execution_count": 56,
   "metadata": {},
   "outputs": [
    {
     "name": "stdout",
     "output_type": "stream",
     "text": [
      "p-value: 0.002\n",
      "Relative conversion gain: 19.80%\n"
     ]
    }
   ],
   "source": [
    "#applying statistical criterion to find the statistical significance of the difference in conversion between the groups\n",
    "\n",
    "print('p-value: '\"{0:.3f}\".format(stats.mannwhitneyu(sampleAFiltered, sampleBFilteredForTest)[1]))\n",
    "print('Relative conversion gain: '\"{0:.2%}\".format(sampleBFiltered.mean() / sampleAFiltered.mean() -1))"
   ]
  },
  {
   "cell_type": "markdown",
   "metadata": {},
   "source": [
    "Our null hypothesis here is: \"There's no statistically significant difference in conversion rate between the groups A and B, they're the same\". Our alternative hypothesis is: \"There is a statistically significant difference in conversion rate between group A and group B\"."
   ]
  },
  {
   "cell_type": "markdown",
   "metadata": {},
   "source": [
    "<a id=\"section2_11c\"></a>\n",
    "\n",
    "We see that there's still statistically significant difference in conversion between the groups, same as for raw data.\n",
    "Relative gain slightly increased, from 16% to 19%, group B'results are better than group A's."
   ]
  },
  {
   "cell_type": "markdown",
   "metadata": {},
   "source": [
    "<a id=\"section2_12\"></a>\n",
    "\n",
    "### Find the statistical significance of the difference in average order size between the groups using the filtered data. "
   ]
  },
  {
   "cell_type": "code",
   "execution_count": 57,
   "metadata": {},
   "outputs": [
    {
     "name": "stdout",
     "output_type": "stream",
     "text": [
      "p-value: 0.487\n",
      "Relative difference in average order size: 1.01%\n"
     ]
    }
   ],
   "source": [
    "#applying statistical criterion to find the statistical significance of the difference in average order size between the groups\n",
    "\n",
    "print('p-value: '\"{0:.3f}\".format(stats.mannwhitneyu(orders[np.logical_and(\n",
    "orders['group'] == 'A', np.logical_not(orders['visitorId'].isin(abnormalUsers)))]['revenue'],\n",
    "                                         orders[np.logical_and(\n",
    "orders['group'] == 'B', np.logical_not(orders['visitorId'].isin(abnormalUsers)))]['revenue'])\n",
    "                      [1]))\n",
    "\n",
    "print('Relative difference in average order size: '\"{0:.2%}\".format(\n",
    "orders[np.logical_and(orders['group'] == 'B', np.logical_not(orders['visitorId'].isin(abnormalUsers)))]['revenue'].mean() /\n",
    "orders[np.logical_and(orders['group'] == 'A', np.logical_not(orders['visitorId'].isin(abnormalUsers)))]['revenue'].mean() -1))"
   ]
  },
  {
   "cell_type": "markdown",
   "metadata": {},
   "source": [
    "Our null hypothesis here: \"There's no statistically significant difference in average order size between group A and group B, they're the same\". Our alternative hypothesis is: \"The difference in average order size between the groups is statistically significant\"."
   ]
  },
  {
   "cell_type": "markdown",
   "metadata": {},
   "source": [
    "<a id=\"section2_12c\"></a>\n",
    "\n",
    "The p-value is still much higher than 0.05, therefore we can conclude that there's no difference in average order size between the groups. Relative difference decreased to 1% when we used filtered data (for raw data it was 27%)."
   ]
  },
  {
   "cell_type": "markdown",
   "metadata": {},
   "source": [
    "<a id=\"section2_13\"></a>\n",
    "\n",
    "### Make a decision based on the test results. \n",
    "The possible decisions are: 1. Stop the test, consider one of the groups the leader. 2. Stop the test, conclude that there is no difference between the groups. 3. Continue the test."
   ]
  },
  {
   "cell_type": "markdown",
   "metadata": {},
   "source": [
    "<a id=\"section2_13c\"></a>\n",
    "\n",
    "After exploring the data, building graphs and excluding anomalies, we see that neither raw nor filtered data revealed any statistically significant difference in average order size. \n",
    "\n",
    "We also see that both raw and filtered data revealed statistically significant difference in conversion rate between the groups.\n",
    "\n",
    "The graph showing the difference in conversion between the groups tells us that although conversion is slightly going down in general, group B's results are considerably (around 20%) higher, than group A's results\n",
    "\n",
    "The graph showing the difference in average order size tells us that group B's results are better, but it happened due to outlier, and in the end the difference turned out to be statistically insignificant.\n",
    "\n",
    "In the beginning we assessed hypotheses with ICE and RICE framework. The hypotheses with highest RICE score included hypotheses about boosting conversion. Let's assume that this is what we want to check\n",
    "\n",
    "Based on the facts listed above, we can conclude that the test is sucessfull, conversion rate grew significantly for group B, and although the average order size didn't change, we can consider group B's the leader, stop the test, and move on to the next hypotheses."
   ]
  }
 ],
 "metadata": {
  "kernelspec": {
   "display_name": "Python 3",
   "language": "python",
   "name": "python3"
  },
  "language_info": {
   "codemirror_mode": {
    "name": "ipython",
    "version": 3
   },
   "file_extension": ".py",
   "mimetype": "text/x-python",
   "name": "python",
   "nbconvert_exporter": "python",
   "pygments_lexer": "ipython3",
   "version": "3.7.6"
  }
 },
 "nbformat": 4,
 "nbformat_minor": 2
}
